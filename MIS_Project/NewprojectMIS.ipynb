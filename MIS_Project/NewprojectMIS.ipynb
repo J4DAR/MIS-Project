{
 "cells": [
  {
   "cell_type": "code",
   "execution_count": null,
   "id": "e66c9c02",
   "metadata": {},
   "outputs": [],
   "source": [
    "%matplotlib inline"
   ]
  },
  {
   "cell_type": "code",
   "execution_count": 3,
   "id": "f4ff4165",
   "metadata": {},
   "outputs": [
    {
     "name": "stdout",
     "output_type": "stream",
     "text": [
      "Select your preferred vintage style:\n",
      "Select your preferred streetwear style:\n",
      "Select your preferred minimalist style:\n",
      "Select your preferred workwear style:\n",
      "Select your preferred preppy style:\n",
      "You selected vintage the most!\n",
      "Redirecting you to https://www.pinterest.com/search/pins/?q=vintage+style+inspiration\n"
     ]
    }
   ],
   "source": [
    "import os  # Importing the os module for file handling\n",
    "from PIL import Image  # Importing the Image module from PIL for image manipulation\n",
    "from IPython.display import display  # Importing display function from IPython.display to display images in Jupyter Notebook\n",
    "\n",
    "# Path to the directory containing style folders\n",
    "styles_path = \"MIS_Project/Styles\"\n",
    "\n",
    "# List of style folders\n",
    "style_folders = [\"vintage\", \"streetwear\", \"minimalist\", \"workwear\", \"preppy\"]\n",
    "\n",
    "# Dictionary to store user selections count for each style\n",
    "selection_count = {style: 0 for style in style_folders}\n",
    "\n",
    "# Iterate through each style folder\n",
    "for style in style_folders:\n",
    "    print(f\"Select your preferred {style} style:\")\n",
    "    \n",
    "    # Iterate through each image in the style folder\n",
    "    for i in range(1, 5):  # Assuming there are 4 images for each style\n",
    "        # Constructing the path to the image file\n",
    "        image_path = os.path.join(styles_path, style, f\"{style}_{i}.jpg\")  # Assuming image names are style_1.jpg, style_2.jpg, etc.\n",
    "        \n",
    "        # Check if the image file exists\n",
    "        if os.path.exists(image_path):\n",
    "            # Open the image using PIL's Image module\n",
    "            img = Image.open(image_path)\n",
    "            # Display the image in the Jupyter Notebook\n",
    "            display(img)\n",
    "            # Prompt the user to select the style\n",
    "            user_choice = input(\"Do you like this style? (yes/no): \").lower()\n",
    "            \n",
    "            # Update the selection count if the user likes the style\n",
    "            if user_choice == \"yes\":\n",
    "                selection_count[style] += 1\n",
    "\n",
    "# Find the most selected style\n",
    "most_selected_style = max(selection_count, key=selection_count.get)\n",
    "\n",
    "# Print the most selected style\n",
    "print(f\"You selected {most_selected_style} the most!\")\n",
    "\n",
    "# Construct the URL for the Pinterest board related to the most selected style\n",
    "pinterest_url = f\"https://www.pinterest.com/search/pins/?q={most_selected_style}+style+inspiration\"\n",
    "# Print a message indicating redirection\n",
    "print(f\"Redirecting you to {pinterest_url}\")\n",
    "# Add code to open the URL in a web browser\n"
   ]
  },
  {
   "cell_type": "code",
   "execution_count": null,
   "id": "a0a9e347",
   "metadata": {
    "scrolled": true
   },
   "outputs": [],
   "source": []
  },
  {
   "cell_type": "code",
   "execution_count": null,
   "id": "f334c985",
   "metadata": {},
   "outputs": [],
   "source": [
    "plt.plot([1, 2, 3])"
   ]
  },
  {
   "cell_type": "code",
   "execution_count": null,
   "id": "1f68dee0",
   "metadata": {},
   "outputs": [
    {
     "name": "stdout",
     "output_type": "stream",
     "text": [
      "Round 1 of 4:\n"
     ]
    }
   ],
   "source": [
    "import os\n",
    "from PIL import Image\n",
    "import random\n",
    "import matplotlib.pyplot as plt  # Importing matplotlib for displaying images in a grid\n",
    "\n",
    "# Path to the directory containing style folders\n",
    "styles_path = \"MIS_Project/Styles\"\n",
    "\n",
    "# List of style folders\n",
    "style_folders = [\"vintage\", \"streetwear\", \"minimalist\", \"workwear\", \"preppy\"]\n",
    "\n",
    "# Dictionary to store user selections count for each style\n",
    "selection_count = {style: 0 for style in style_folders}\n",
    "\n",
    "# Iterate through each round\n",
    "for round_num in range(4):\n",
    "    print(f\"Round {round_num + 1} of 4:\")\n",
    "    \n",
    "    # Collecting images for each style\n",
    "    style_images = {}\n",
    "\n",
    "    # List to store indices of images displayed in this round\n",
    "    displayed_indices = []\n",
    "\n",
    "    # Iterate through each style folder\n",
    "    for style in style_folders:\n",
    "        # Collecting a random image for the current round\n",
    "        image_index = random.randint(1, 4)  # Assuming there are 4 images for each style\n",
    "        while image_index in displayed_indices:  # Ensure the image hasn't been displayed already in this round\n",
    "            image_index = random.randint(1, 4)\n",
    "        displayed_indices.append(image_index)\n",
    "\n",
    "        # Constructing the path to the image file\n",
    "        image_path = os.path.join(styles_path, style, f\"{style}_{image_index}.jpg\")  # Assuming image names are style_1.jpg, style_2.jpg, etc.\n",
    "        if os.path.exists(image_path):\n",
    "            img = Image.open(image_path)\n",
    "            style_images[style] = img\n",
    "\n",
    "    # Displaying images of each style together\n",
    "    fig, axes = plt.subplots(1, len(style_images), figsize=(15, 5))  # Creating subplots for each style image\n",
    "    for i, (style, img) in enumerate(style_images.items()):\n",
    "        axes[i].imshow(img)\n",
    "        axes[i].set_title(style)\n",
    "        axes[i].axis('off')\n",
    "    plt.show()\n",
    "\n",
    "    # Now the user can select the preferred style based on the displayed images\n",
    "    user_choice = input(\"Enter the name of the style you prefer: \").lower()\n",
    "\n",
    "    # Update the selection count based on user's choice\n",
    "    if user_choice in selection_count:\n",
    "        selection_count[user_choice] += 1\n",
    "\n",
    "# Find the most selected style\n",
    "most_selected_style = max(selection_count, key=selection_count.get)\n",
    "print(f\"You selected {most_selected_style} the most!\")\n",
    "\n",
    "# Redirecting to Pinterest board based on the most selected style\n",
    "pinterest_url = f\"https://www.pinterest.com/search/pins/?q={most_selected_style}+style+inspiration\"\n",
    "print(f\"Redirecting you to {pinterest_url}\")\n",
    "# Add code to open the URL in a web browser\n"
   ]
  },
  {
   "cell_type": "code",
   "execution_count": null,
   "id": "92eb687b",
   "metadata": {},
   "outputs": [],
   "source": [
    "from IPython.display import Image\n",
    "\n",
    "# Replace 'image_path' with the path to your image file\n",
    "image_path = 'https://i.pinimg.com/474x/5a/1a/4d/5a1a4d253e8eb7234fce40c26f369f86.jpg'\n",
    "\n",
    "# Display the image\n",
    "Image(filename=image_path)"
   ]
  },
  {
   "cell_type": "code",
   "execution_count": null,
   "id": "1d4f00c1",
   "metadata": {},
   "outputs": [],
   "source": []
  }
 ],
 "metadata": {
  "kernelspec": {
   "display_name": "Python 3 (ipykernel)",
   "language": "python",
   "name": "python3"
  },
  "language_info": {
   "codemirror_mode": {
    "name": "ipython",
    "version": 3
   },
   "file_extension": ".py",
   "mimetype": "text/x-python",
   "name": "python",
   "nbconvert_exporter": "python",
   "pygments_lexer": "ipython3",
   "version": "3.11.5"
  }
 },
 "nbformat": 4,
 "nbformat_minor": 5
}
